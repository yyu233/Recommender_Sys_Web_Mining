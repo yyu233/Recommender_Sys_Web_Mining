{
 "cells": [
  {
   "cell_type": "code",
   "execution_count": 1,
   "id": "dbcb905c",
   "metadata": {},
   "outputs": [],
   "source": [
    "import numpy\n",
    "import urllib\n",
    "import scipy.optimize\n",
    "import random\n",
    "from sklearn import linear_model\n",
    "import gzip\n",
    "from collections import defaultdict"
   ]
  },
  {
   "cell_type": "code",
   "execution_count": 2,
   "id": "94e03340",
   "metadata": {},
   "outputs": [],
   "source": [
    "import warnings\n",
    "warnings.filterwarnings(\"ignore\")"
   ]
  },
  {
   "cell_type": "code",
   "execution_count": 3,
   "id": "8bbbc2fe",
   "metadata": {},
   "outputs": [],
   "source": [
    "def assertFloat(x):\n",
    "    assert type(float(x)) == float\n",
    "\n",
    "def assertFloatList(items, N):\n",
    "    assert len(items) == N\n",
    "    assert [type(float(x)) for x in items] == [float]*N"
   ]
  },
  {
   "cell_type": "code",
   "execution_count": 4,
   "id": "85c00feb",
   "metadata": {},
   "outputs": [],
   "source": [
    "f = open(\"5year.arff\", 'r')"
   ]
  },
  {
   "cell_type": "code",
   "execution_count": 5,
   "id": "6fad4389",
   "metadata": {},
   "outputs": [],
   "source": [
    "# Read and parse the data\n",
    "while not '@data' in f.readline():\n",
    "    pass\n",
    "\n",
    "dataset = []\n",
    "for l in f:\n",
    "    if '?' in l: # Missing entry\n",
    "        continue\n",
    "    l = l.split(',')\n",
    "    values = [1] + [float(x) for x in l]\n",
    "    values[-1] = values[-1] > 0 # Convert to bool\n",
    "    dataset.append(values)"
   ]
  },
  {
   "cell_type": "code",
   "execution_count": 6,
   "id": "7691e3d0",
   "metadata": {},
   "outputs": [],
   "source": [
    "X = [d[:-1] for d in dataset]\n",
    "y = [d[-1] for d in dataset]"
   ]
  },
  {
   "cell_type": "code",
   "execution_count": 7,
   "id": "03249990",
   "metadata": {},
   "outputs": [],
   "source": [
    "answers = {} # Your answers"
   ]
  },
  {
   "cell_type": "code",
   "execution_count": 8,
   "id": "1eda7e4f",
   "metadata": {},
   "outputs": [],
   "source": [
    "def total_tp(predictions, y):\n",
    "     return sum([(p and q) for (p, q) in zip(predictions, y)])"
   ]
  },
  {
   "cell_type": "code",
   "execution_count": 9,
   "id": "2ee9ad47",
   "metadata": {},
   "outputs": [],
   "source": [
    "def total_fp(predictions, y):\n",
    "    return sum([(p and not q) for (p, q) in zip(predictions, y)])"
   ]
  },
  {
   "cell_type": "code",
   "execution_count": 10,
   "id": "54d19d42",
   "metadata": {},
   "outputs": [],
   "source": [
    "def total_tn(predictions, y):\n",
    "    return sum([(not p and not q) for (p, q) in zip(predictions, y)])"
   ]
  },
  {
   "cell_type": "code",
   "execution_count": 11,
   "id": "fbc69883",
   "metadata": {},
   "outputs": [],
   "source": [
    "def total_fn(predictions, y):\n",
    "    return sum([(not p and q) for (p, q) in zip(predictions, y)])"
   ]
  },
  {
   "cell_type": "code",
   "execution_count": 12,
   "id": "fa9a1ddc",
   "metadata": {},
   "outputs": [],
   "source": [
    "def get_tpr(TP, FN):\n",
    "    return TP / (TP + FN)"
   ]
  },
  {
   "cell_type": "code",
   "execution_count": 13,
   "id": "00149586",
   "metadata": {},
   "outputs": [],
   "source": [
    "def get_tnr(TN, FP):\n",
    "    return TN / (TN + FP)"
   ]
  },
  {
   "cell_type": "code",
   "execution_count": null,
   "id": "8451ebe2",
   "metadata": {},
   "outputs": [],
   "source": []
  },
  {
   "cell_type": "code",
   "execution_count": 14,
   "id": "a31a5b59",
   "metadata": {},
   "outputs": [],
   "source": [
    "def accuracy(predictions, y):\n",
    "    return sum(predictions == y) / len(y)"
   ]
  },
  {
   "cell_type": "code",
   "execution_count": 15,
   "id": "83974166",
   "metadata": {},
   "outputs": [],
   "source": [
    "def BER(predictions, y):\n",
    "    TP = total_tp(predictions, y)\n",
    "    FN = total_fn(predictions, y)\n",
    "    TPR = get_tpr(TP, FN)\n",
    "    \n",
    "    TN = total_tn(predictions, y)\n",
    "    FP = total_fp(predictions, y)\n",
    "    TNR = get_tnr(TN, FP)\n",
    "    \n",
    "    return 1 - 0.5 * (TPR + TNR)"
   ]
  },
  {
   "cell_type": "code",
   "execution_count": 16,
   "id": "5e78a6fc",
   "metadata": {},
   "outputs": [],
   "source": [
    "### Question 1"
   ]
  },
  {
   "cell_type": "code",
   "execution_count": 17,
   "id": "f59633dd",
   "metadata": {},
   "outputs": [],
   "source": [
    "mod = linear_model.LogisticRegression(C=1)\n",
    "mod.fit(X,y)\n",
    "\n",
    "pred = mod.predict(X)"
   ]
  },
  {
   "cell_type": "code",
   "execution_count": 19,
   "id": "7e134e43",
   "metadata": {},
   "outputs": [],
   "source": [
    "acc1 = accuracy(pred, y)\n",
    "ber1 = BER(pred, y)"
   ]
  },
  {
   "cell_type": "code",
   "execution_count": 20,
   "id": "22996b1b",
   "metadata": {},
   "outputs": [
    {
     "name": "stdout",
     "output_type": "stream",
     "text": [
      "0.9656878917848895\n",
      "0.4766851431593464\n"
     ]
    }
   ],
   "source": [
    "print(acc1)\n",
    "print(ber1)"
   ]
  },
  {
   "cell_type": "code",
   "execution_count": 21,
   "id": "033a6c45",
   "metadata": {},
   "outputs": [],
   "source": [
    "answers['Q1'] = [acc1, ber1] # Accuracy and balanced error rate"
   ]
  },
  {
   "cell_type": "code",
   "execution_count": 22,
   "id": "e75988a2",
   "metadata": {},
   "outputs": [],
   "source": [
    "assertFloatList(answers['Q1'], 2)"
   ]
  },
  {
   "cell_type": "code",
   "execution_count": 23,
   "id": "30482ced",
   "metadata": {},
   "outputs": [],
   "source": [
    "### Question 2"
   ]
  },
  {
   "cell_type": "code",
   "execution_count": 24,
   "id": "bc8f8282",
   "metadata": {},
   "outputs": [],
   "source": [
    "mod = linear_model.LogisticRegression(C=1, class_weight='balanced')\n",
    "mod.fit(X,y)\n",
    "\n",
    "pred = mod.predict(X)"
   ]
  },
  {
   "cell_type": "code",
   "execution_count": 25,
   "id": "e99274d7",
   "metadata": {},
   "outputs": [],
   "source": [
    "acc2 = accuracy(pred, y)\n",
    "ber2 = BER(pred, y)"
   ]
  },
  {
   "cell_type": "code",
   "execution_count": 26,
   "id": "86e13d74",
   "metadata": {},
   "outputs": [
    {
     "name": "stdout",
     "output_type": "stream",
     "text": [
      "0.6951501154734411\n",
      "0.304401890493309\n"
     ]
    }
   ],
   "source": [
    "print(acc2)\n",
    "print(ber2)"
   ]
  },
  {
   "cell_type": "code",
   "execution_count": 27,
   "id": "de8d6195",
   "metadata": {},
   "outputs": [],
   "source": [
    "answers['Q2'] = [acc2, ber2]"
   ]
  },
  {
   "cell_type": "code",
   "execution_count": 28,
   "id": "8a90cd8a",
   "metadata": {},
   "outputs": [],
   "source": [
    "assertFloatList(answers['Q2'], 2)"
   ]
  },
  {
   "cell_type": "code",
   "execution_count": 29,
   "id": "e1fa1ccb",
   "metadata": {},
   "outputs": [],
   "source": [
    "### Question 3"
   ]
  },
  {
   "cell_type": "code",
   "execution_count": 30,
   "id": "55d4beff",
   "metadata": {},
   "outputs": [],
   "source": [
    "random.seed(3)\n",
    "random.shuffle(dataset)"
   ]
  },
  {
   "cell_type": "code",
   "execution_count": 31,
   "id": "d19c0c8a",
   "metadata": {},
   "outputs": [],
   "source": [
    "X = [d[:-1] for d in dataset]\n",
    "y = [d[-1] for d in dataset]"
   ]
  },
  {
   "cell_type": "code",
   "execution_count": 32,
   "id": "18d5fd88",
   "metadata": {},
   "outputs": [],
   "source": [
    "Xtrain, Xvalid, Xtest = X[:len(X)//2], X[len(X)//2:(3*len(X))//4], X[(3*len(X))//4:]\n",
    "ytrain, yvalid, ytest = y[:len(X)//2], y[len(X)//2:(3*len(X))//4], y[(3*len(X))//4:]"
   ]
  },
  {
   "cell_type": "code",
   "execution_count": 33,
   "id": "6d66f07c",
   "metadata": {},
   "outputs": [
    {
     "data": {
      "text/plain": [
       "(1515, 758, 758)"
      ]
     },
     "execution_count": 33,
     "metadata": {},
     "output_type": "execute_result"
    }
   ],
   "source": [
    "len(Xtrain), len(Xvalid), len(Xtest)"
   ]
  },
  {
   "cell_type": "code",
   "execution_count": 34,
   "id": "647021ed",
   "metadata": {},
   "outputs": [],
   "source": [
    "mod = linear_model.LogisticRegression(C=1, class_weight='balanced')\n",
    "mod.fit(Xtrain,ytrain)\n",
    "\n",
    "predTrain = mod.predict(Xtrain)\n",
    "berTrain = BER(predTrain, ytrain)\n",
    "\n",
    "predValid = mod.predict(Xvalid)\n",
    "berValid = BER(predValid, yvalid)\n",
    "\n",
    "predTest = mod.predict(Xtest)\n",
    "berTest = BER(predTest, ytest)"
   ]
  },
  {
   "cell_type": "code",
   "execution_count": 35,
   "id": "a36ddf71",
   "metadata": {},
   "outputs": [
    {
     "name": "stdout",
     "output_type": "stream",
     "text": [
      "0.29287226079549855\n",
      "0.3159203980099503\n",
      "0.2585616438356164\n"
     ]
    }
   ],
   "source": [
    "print(berTrain)\n",
    "print(berValid)\n",
    "print(berTest)"
   ]
  },
  {
   "cell_type": "code",
   "execution_count": 36,
   "id": "0bb40dc2",
   "metadata": {},
   "outputs": [],
   "source": [
    "answers['Q3'] = [berTrain, berValid, berTest]"
   ]
  },
  {
   "cell_type": "code",
   "execution_count": 37,
   "id": "9e0ece86",
   "metadata": {},
   "outputs": [],
   "source": [
    "assertFloatList(answers['Q3'], 3)"
   ]
  },
  {
   "cell_type": "code",
   "execution_count": 38,
   "id": "81d44cb2",
   "metadata": {},
   "outputs": [],
   "source": [
    "### Question 4"
   ]
  },
  {
   "cell_type": "code",
   "execution_count": 41,
   "id": "5ff0daca",
   "metadata": {},
   "outputs": [],
   "source": [
    "C = [1e-4, 1e-3, 1e-2, 1e-1, 1, 1e1, 1e2, 1e3, 1e4]\n",
    "berList = list()\n",
    "\n",
    "for c in C:\n",
    "    mod = linear_model.LogisticRegression(penalty='l2', C=c, class_weight='balanced')\n",
    "    mod.fit(Xtrain, ytrain)\n",
    "    \n",
    "    predValid = mod.predict(Xvalid)\n",
    "    berValid = BER(predValid, yvalid)\n",
    "    berList.append(berValid)    "
   ]
  },
  {
   "cell_type": "code",
   "execution_count": 42,
   "id": "fcfac219",
   "metadata": {},
   "outputs": [
    {
     "name": "stdout",
     "output_type": "stream",
     "text": [
      "[0.3288104929895974, 0.31931252826775225, 0.3281320669380371, 0.3179556761646314, 0.3159203980099503, 0.3111714156490276, 0.2955030044582283, 0.29618143050978873, 0.29618143050978873]\n"
     ]
    }
   ],
   "source": [
    "print(berList)"
   ]
  },
  {
   "cell_type": "code",
   "execution_count": 43,
   "id": "3c96b655",
   "metadata": {},
   "outputs": [],
   "source": [
    "answers['Q4'] = berList"
   ]
  },
  {
   "cell_type": "code",
   "execution_count": 44,
   "id": "f55f3d6e",
   "metadata": {},
   "outputs": [],
   "source": [
    "assertFloatList(answers['Q4'], 9)"
   ]
  },
  {
   "cell_type": "code",
   "execution_count": 45,
   "id": "8b455b96",
   "metadata": {},
   "outputs": [],
   "source": [
    "### Question 5"
   ]
  },
  {
   "cell_type": "code",
   "execution_count": 52,
   "id": "2a80d25e",
   "metadata": {},
   "outputs": [
    {
     "name": "stdout",
     "output_type": "stream",
     "text": [
      "[6]\n",
      "100.0\n",
      "0.2955030044582283\n"
     ]
    }
   ],
   "source": [
    "ber5 = min(berList)\n",
    "bestCList = [i for i, val in enumerate(berList) if val == ber5]\n",
    "print(bestCList)\n",
    "bestC = C[bestCList[0]]\n",
    "print(bestC)\n",
    "print(ber5)\n"
   ]
  },
  {
   "cell_type": "code",
   "execution_count": 50,
   "id": "62bdaa25",
   "metadata": {},
   "outputs": [],
   "source": [
    "answers['Q5'] = [bestC, ber5]"
   ]
  },
  {
   "cell_type": "code",
   "execution_count": 51,
   "id": "b8cafe6e",
   "metadata": {},
   "outputs": [],
   "source": [
    "assertFloatList(answers['Q5'], 2)"
   ]
  },
  {
   "cell_type": "code",
   "execution_count": 53,
   "id": "fcbc2e08",
   "metadata": {},
   "outputs": [],
   "source": [
    "### Question 6"
   ]
  },
  {
   "cell_type": "code",
   "execution_count": 54,
   "id": "ace19c30",
   "metadata": {},
   "outputs": [],
   "source": [
    "f = gzip.open(\"young_adult_10000.json.gz\")\n",
    "dataset = []\n",
    "for l in f:\n",
    "    dataset.append(eval(l))"
   ]
  },
  {
   "cell_type": "code",
   "execution_count": 55,
   "id": "06598b0d",
   "metadata": {},
   "outputs": [],
   "source": [
    "dataTrain = dataset[:9000]\n",
    "dataTest = dataset[9000:]"
   ]
  },
  {
   "cell_type": "code",
   "execution_count": 61,
   "id": "09f07e38",
   "metadata": {},
   "outputs": [
    {
     "name": "stdout",
     "output_type": "stream",
     "text": [
      "{'user_id': '8842281e1d1347389f2ab93d60773d4d', 'book_id': '2767052', 'review_id': '248c011811e945eca861b5c31a549291', 'rating': 5, 'review_text': \"I cracked and finally picked this up. Very enjoyable quick read - couldn't put it down - it was like crack. \\n I'm a bit bothered by the lack of backstory of how Panem and the Hunger Games come about. It is just kind of explained away in a few paragraphs and we are left to accept this very strange world where teenagers are pitted into an arena each year to kill each other? I was expecting it because I've seen Battle Royale, but I would have appreciated knowing more of the backstory of how the world could have come into such a odd state. \\n I suppose what makes a book like this interesting is thinking about the strategy of it all. The players are going to be statistically encouraged to band together because they will last longer that way, but by definition of course any partnership will be broken, and the drama of how that unfolds is always interesting and full of friendships broken and betrayal. Each character approached the game in their own way. Some banded together in larger coalitions, some were loners initially and banded together later. And some were just loners, like Foxface. A lot depended on your survival skill: could you find food and water on your own? Self-dependence is highly valued - and of course our hero was strong there. \\n All in all, a fun read, but I feel kind of dirty for having read it.\", 'date_added': 'Wed Jan 13 13:38:25 -0800 2010', 'date_updated': 'Wed Mar 22 11:46:36 -0700 2017', 'read_at': 'Sun Mar 25 00:00:00 -0700 2012', 'started_at': 'Fri Mar 23 00:00:00 -0700 2012', 'n_votes': 24, 'n_comments': 25}\n"
     ]
    }
   ],
   "source": [
    "print(dataTrain[0])"
   ]
  },
  {
   "cell_type": "code",
   "execution_count": 70,
   "id": "4209458b",
   "metadata": {},
   "outputs": [],
   "source": [
    "# Some data structures you might want\n",
    "\n",
    "usersPerItem = defaultdict(set) # Maps an item to the users who rated it\n",
    "itemsPerUser = defaultdict(set) # Maps a user to the items that they rated\n",
    "reviewsPerUser = defaultdict(list)\n",
    "reviewsPerItem = defaultdict(list)\n",
    "ratingDict = {} # To retrieve a rating for a specific user/item pair\n",
    "\n",
    "for d in dataTrain:\n",
    "    user, item, review = d['user_id'], d['book_id'], d\n",
    "    usersPerItem[item].add(user)\n",
    "    itemsPerUser[user].add(item)\n",
    "    \n",
    "    reviewsPerUser[user].append(review)\n",
    "    reviewsPerItem[item].append(review)\n",
    "    \n",
    "    ratingDict[(user, item)] = d['rating']\n",
    "    "
   ]
  },
  {
   "cell_type": "code",
   "execution_count": 60,
   "id": "03c90f36",
   "metadata": {},
   "outputs": [],
   "source": [
    "def Jaccard(s1, s2):\n",
    "    a = len(s1.intersection(s2))\n",
    "    b = len(s1.union(s2))\n",
    "    return 0 if b == 0 else a / b"
   ]
  },
  {
   "cell_type": "code",
   "execution_count": 66,
   "id": "25bfacf3",
   "metadata": {},
   "outputs": [],
   "source": [
    "def mostSimilar(i, N):\n",
    "    sims = []\n",
    "    users = usersPerItem[i]\n",
    "    \n",
    "    for j in usersPerItem:\n",
    "        if i == j:\n",
    "            continue\n",
    "        else:\n",
    "            sim = Jaccard(users, usersPerItem[j])\n",
    "            sims.append((sim, j))\n",
    "    \n",
    "    sims.sort(reverse=True)\n",
    "    \n",
    "    return sims[:N]"
   ]
  },
  {
   "cell_type": "code",
   "execution_count": 67,
   "id": "d6d0a380",
   "metadata": {},
   "outputs": [
    {
     "name": "stdout",
     "output_type": "stream",
     "text": [
      "[(0.4125, '6148028'), (0.3411764705882353, '7260188'), (0.1590909090909091, '256683'), (0.1375, '1162543'), (0.11494252873563218, '11735983'), (0.10989010989010989, '13335037'), (0.10810810810810811, '28187'), (0.10666666666666667, '428263'), (0.09876543209876543, '49041'), (0.09782608695652174, '41865')]\n"
     ]
    }
   ],
   "source": [
    "print(mostSimilar('2767052', 10))"
   ]
  },
  {
   "cell_type": "code",
   "execution_count": 68,
   "id": "2652a90d",
   "metadata": {},
   "outputs": [],
   "source": [
    "answers['Q6'] = mostSimilar('2767052', 10)"
   ]
  },
  {
   "cell_type": "code",
   "execution_count": 69,
   "id": "35457af6",
   "metadata": {},
   "outputs": [],
   "source": [
    "assert len(answers['Q6']) == 10\n",
    "assertFloatList([x[0] for x in answers['Q6']], 10)"
   ]
  },
  {
   "cell_type": "code",
   "execution_count": null,
   "id": "69798ea6",
   "metadata": {},
   "outputs": [],
   "source": [
    "### Question 7"
   ]
  },
  {
   "cell_type": "code",
   "execution_count": 75,
   "id": "94df11bf",
   "metadata": {},
   "outputs": [],
   "source": [
    "userRatingMean = dict()\n",
    "itemRatingMean = dict()\n",
    "\n",
    "for u in itemsPerUser:\n",
    "    ratings = [ratingDict[(u, i)] for i in itemsPerUser[u]]\n",
    "    if len(ratings) == 0:\n",
    "        continue\n",
    "    else:\n",
    "        userRatingMean[u] = sum(ratings) / len(ratings)\n",
    "\n",
    "for i in usersPerItem:\n",
    "    ratings = [ratingDict[(u, i)] for u in usersPerItem[i]]\n",
    "    if len(ratings) == 0:\n",
    "        continue\n",
    "    else:\n",
    "        itemRatingMean[i] = sum(ratings) / len(ratings)"
   ]
  },
  {
   "cell_type": "code",
   "execution_count": 77,
   "id": "af396c07",
   "metadata": {},
   "outputs": [
    {
     "name": "stdout",
     "output_type": "stream",
     "text": [
      "3.742888888888889\n"
     ]
    }
   ],
   "source": [
    "globalRatingMean = sum([d['rating'] for d in dataTrain]) / len(dataTrain)\n",
    "print(globalRatingMean)"
   ]
  },
  {
   "cell_type": "code",
   "execution_count": 82,
   "id": "5fb4cacf",
   "metadata": {},
   "outputs": [],
   "source": [
    "def predictRating(user, item):\n",
    "    ratings = []\n",
    "    sims = []\n",
    "    \n",
    "    for d in reviewsPerUser[user]:\n",
    "        j = d['book_id']\n",
    "        if item == j:\n",
    "            continue\n",
    "        else:\n",
    "            ratings.append(d['rating'] - itemRatingMean[j])\n",
    "            sims.append(Jaccard(usersPerItem[item], usersPerItem[j]))\n",
    "    \n",
    "    simsSum = sum(sims)\n",
    "    if (simsSum > 0):\n",
    "        weightedRatings = [(a * b) for a, b in zip(ratings, sims)]\n",
    "        return itemRatingMean[item] + sum(weightedRatings) / simsSum\n",
    "    else:\n",
    "        return globalRatingMean"
   ]
  },
  {
   "cell_type": "code",
   "execution_count": 83,
   "id": "41432baf",
   "metadata": {},
   "outputs": [],
   "source": [
    "def MSE(preds, labels):\n",
    "    diffs = [(a - b )**2 for a, b in zip(preds, labels)]\n",
    "    return sum(diffs) / len (diffs)"
   ]
  },
  {
   "cell_type": "code",
   "execution_count": 84,
   "id": "4789e7c6",
   "metadata": {},
   "outputs": [],
   "source": [
    "preds = [predictRating(d['user_id'], d['book_id']) for d in dataTest]"
   ]
  },
  {
   "cell_type": "code",
   "execution_count": 86,
   "id": "2605b1f9",
   "metadata": {},
   "outputs": [],
   "source": [
    "labels = [d['rating'] for d in dataTest]"
   ]
  },
  {
   "cell_type": "code",
   "execution_count": 87,
   "id": "f524b472",
   "metadata": {},
   "outputs": [],
   "source": [
    "mse7 = MSE(preds, labels)"
   ]
  },
  {
   "cell_type": "code",
   "execution_count": 88,
   "id": "4968c6ef",
   "metadata": {},
   "outputs": [
    {
     "name": "stdout",
     "output_type": "stream",
     "text": [
      "1.2469091498159586\n"
     ]
    }
   ],
   "source": [
    "print(mse7)"
   ]
  },
  {
   "cell_type": "code",
   "execution_count": 89,
   "id": "0e3f9a1b",
   "metadata": {},
   "outputs": [],
   "source": [
    "answers['Q7'] = mse7"
   ]
  },
  {
   "cell_type": "code",
   "execution_count": null,
   "id": "18af9106",
   "metadata": {},
   "outputs": [],
   "source": []
  },
  {
   "cell_type": "code",
   "execution_count": null,
   "id": "f7d294f2",
   "metadata": {},
   "outputs": [],
   "source": [
    "assertFloat(answers['Q7'])"
   ]
  },
  {
   "cell_type": "code",
   "execution_count": null,
   "id": "088d0836",
   "metadata": {},
   "outputs": [],
   "source": [
    "### Question 8"
   ]
  },
  {
   "cell_type": "code",
   "execution_count": null,
   "id": "781abe2c",
   "metadata": {},
   "outputs": [],
   "source": []
  },
  {
   "cell_type": "code",
   "execution_count": null,
   "id": "2461deb6",
   "metadata": {},
   "outputs": [],
   "source": [
    "answers['Q8'] = mse8"
   ]
  },
  {
   "cell_type": "code",
   "execution_count": null,
   "id": "def088ef",
   "metadata": {},
   "outputs": [],
   "source": [
    "assertFloat(answers['Q8'])"
   ]
  },
  {
   "cell_type": "code",
   "execution_count": null,
   "id": "f534c8b8",
   "metadata": {},
   "outputs": [],
   "source": [
    "f = open(\"answers_hw2.txt\", 'w')\n",
    "f.write(str(answers) + '\\n')\n",
    "f.close()"
   ]
  },
  {
   "cell_type": "code",
   "execution_count": null,
   "id": "eb717703",
   "metadata": {},
   "outputs": [],
   "source": []
  }
 ],
 "metadata": {
  "kernelspec": {
   "display_name": "Python 3 (ipykernel)",
   "language": "python",
   "name": "python3"
  },
  "language_info": {
   "codemirror_mode": {
    "name": "ipython",
    "version": 3
   },
   "file_extension": ".py",
   "mimetype": "text/x-python",
   "name": "python",
   "nbconvert_exporter": "python",
   "pygments_lexer": "ipython3",
   "version": "3.9.5"
  }
 },
 "nbformat": 4,
 "nbformat_minor": 5
}
