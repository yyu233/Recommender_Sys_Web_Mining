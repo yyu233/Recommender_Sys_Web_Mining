{
 "cells": [
  {
   "cell_type": "code",
   "execution_count": 29,
   "id": "d545425e",
   "metadata": {},
   "outputs": [],
   "source": [
    "import json\n",
    "from matplotlib import pyplot as plt\n",
    "from collections import defaultdict\n",
    "from sklearn import linear_model\n",
    "import numpy\n",
    "import random\n",
    "import gzip\n",
    "import math"
   ]
  },
  {
   "cell_type": "code",
   "execution_count": 30,
   "id": "e74ac91e",
   "metadata": {},
   "outputs": [],
   "source": [
    "def assertFloat(x): # Checks that an answer is a float\n",
    "    assert type(float(x)) == float\n",
    "\n",
    "def assertFloatList(items, N):\n",
    "    assert len(items) == N\n",
    "    assert [type(float(x)) for x in items] == [float]*N"
   ]
  },
  {
   "cell_type": "code",
   "execution_count": 31,
   "id": "1a7911bf",
   "metadata": {},
   "outputs": [],
   "source": [
    "f = gzip.open(\"young_adult_10000.json.gz\")\n",
    "dataset = []\n",
    "for l in f:\n",
    "    dataset.append(json.loads(l))"
   ]
  },
  {
   "cell_type": "code",
   "execution_count": 32,
   "id": "85100ed3",
   "metadata": {},
   "outputs": [
    {
     "data": {
      "text/plain": [
       "10000"
      ]
     },
     "execution_count": 32,
     "metadata": {},
     "output_type": "execute_result"
    }
   ],
   "source": [
    "len(dataset)"
   ]
  },
  {
   "cell_type": "code",
   "execution_count": 33,
   "id": "e716aa89",
   "metadata": {},
   "outputs": [],
   "source": [
    "answers = {} # Put your answers to each question in this dictionary"
   ]
  },
  {
   "cell_type": "code",
   "execution_count": 34,
   "id": "cb2c286a",
   "metadata": {},
   "outputs": [
    {
     "data": {
      "text/plain": [
       "{'user_id': '7504b2aee1ecb5b2872d3da381c6c91e',\n",
       " 'book_id': '23302416',\n",
       " 'review_id': '84c0936a0f9868f38e75d2f9a5cb761e',\n",
       " 'rating': 5,\n",
       " 'review_text': \"I read this book because my fifth grade son was required to for school. I'm so glad I did! I experienced a range of emotions & just loved it. Glad these middle schoolers are being exposed to the topics discussed in the book.\",\n",
       " 'date_added': 'Wed Jan 21 18:40:59 -0800 2015',\n",
       " 'date_updated': 'Wed Oct 26 03:44:13 -0700 2016',\n",
       " 'read_at': '',\n",
       " 'started_at': '',\n",
       " 'n_votes': 0,\n",
       " 'n_comments': 0}"
      ]
     },
     "execution_count": 34,
     "metadata": {},
     "output_type": "execute_result"
    }
   ],
   "source": [
    "dataset[1]"
   ]
  },
  {
   "cell_type": "code",
   "execution_count": 35,
   "id": "2a260695",
   "metadata": {},
   "outputs": [],
   "source": [
    "### Question 1"
   ]
  },
  {
   "cell_type": "code",
   "execution_count": 36,
   "id": "fea5f8f2",
   "metadata": {},
   "outputs": [],
   "source": [
    "def feature(datum):\n",
    "    # your implementation\n",
    "    review = datum['review_text']\n",
    "    feat = review.count('!')\n",
    "    \n",
    "    return [1] + [feat]\n",
    "        "
   ]
  },
  {
   "cell_type": "code",
   "execution_count": 37,
   "id": "8f00dea9",
   "metadata": {},
   "outputs": [
    {
     "name": "stdout",
     "output_type": "stream",
     "text": [
      "3.6885330408320085\n",
      "0.0710901901995423\n",
      "1.523174740453871\n"
     ]
    },
    {
     "name": "stderr",
     "output_type": "stream",
     "text": [
      "/tmp/ipykernel_84/1795502805.py:3: FutureWarning: `rcond` parameter will change to the default of machine precision times ``max(M, N)`` where M and N are the input matrix dimensions.\n",
      "To use the future default and silence this warning we advise to pass `rcond=None`, to keep using the old, explicitly pass `rcond=-1`.\n",
      "  theta, residuals, rank, s = numpy.linalg.lstsq(X, Y)\n"
     ]
    }
   ],
   "source": [
    "X = [feature(d) for d in dataset]\n",
    "Y = [d['rating'] for d in dataset]\n",
    "theta, residuals, rank, s = numpy.linalg.lstsq(X, Y)\n",
    "#len(theta)\n",
    "theta0 = theta[0]\n",
    "theta1 = theta[1]\n",
    "#print(residuals.shape)\n",
    "mse = residuals[0] / len(dataset)\n",
    "\n",
    "print(theta0)\n",
    "print(theta1)\n",
    "print(mse)"
   ]
  },
  {
   "cell_type": "code",
   "execution_count": 38,
   "id": "51581a4f",
   "metadata": {},
   "outputs": [],
   "source": [
    "answers['Q1'] = [theta0, theta1, mse]"
   ]
  },
  {
   "cell_type": "code",
   "execution_count": 39,
   "id": "525fd954",
   "metadata": {},
   "outputs": [],
   "source": [
    "assertFloatList(answers['Q1'], 3) # Check the format of your answer (three floats)"
   ]
  },
  {
   "cell_type": "code",
   "execution_count": 40,
   "id": "8b84731b",
   "metadata": {},
   "outputs": [],
   "source": [
    "### Question 2"
   ]
  },
  {
   "cell_type": "code",
   "execution_count": 41,
   "id": "982ea2f5",
   "metadata": {},
   "outputs": [],
   "source": [
    "def feature(datum):\n",
    "    review = datum['review_text']\n",
    "    feat1 = len(review)\n",
    "    feat2 = review.count('!')\n",
    "    \n",
    "    return [1] + [feat1] + [feat2]"
   ]
  },
  {
   "cell_type": "code",
   "execution_count": 42,
   "id": "cda70702",
   "metadata": {},
   "outputs": [
    {
     "name": "stdout",
     "output_type": "stream",
     "text": [
      "3.71751280779718\n",
      "-4.1215065294880096e-05\n",
      "0.07527591733232662\n",
      "1.5214029246165892\n"
     ]
    },
    {
     "name": "stderr",
     "output_type": "stream",
     "text": [
      "/tmp/ipykernel_84/1504653064.py:3: FutureWarning: `rcond` parameter will change to the default of machine precision times ``max(M, N)`` where M and N are the input matrix dimensions.\n",
      "To use the future default and silence this warning we advise to pass `rcond=None`, to keep using the old, explicitly pass `rcond=-1`.\n",
      "  theta, residuals, rank, s = numpy.linalg.lstsq(X, Y)\n"
     ]
    }
   ],
   "source": [
    "X = [feature(d) for d in dataset]\n",
    "Y = [d['rating'] for d in dataset]\n",
    "theta, residuals, rank, s = numpy.linalg.lstsq(X, Y)\n",
    "#len(theta)\n",
    "theta0 = theta[0]\n",
    "theta1 = theta[1]\n",
    "theta2 = theta[2]\n",
    "mse = residuals[0] / len(dataset)\n",
    "\n",
    "print(theta0)\n",
    "print(theta1)\n",
    "print(theta2)\n",
    "print(mse)"
   ]
  },
  {
   "cell_type": "code",
   "execution_count": 43,
   "id": "f099afd8",
   "metadata": {},
   "outputs": [],
   "source": [
    "answers['Q2'] = [theta0, theta1, theta2, mse]"
   ]
  },
  {
   "cell_type": "code",
   "execution_count": 44,
   "id": "31e2f9e8",
   "metadata": {},
   "outputs": [],
   "source": [
    "assertFloatList(answers['Q2'], 4)"
   ]
  },
  {
   "cell_type": "code",
   "execution_count": 45,
   "id": "1147c4f6",
   "metadata": {},
   "outputs": [],
   "source": [
    "### Question 3"
   ]
  },
  {
   "cell_type": "code",
   "execution_count": 46,
   "id": "78ef0f1e",
   "metadata": {},
   "outputs": [
    {
     "name": "stderr",
     "output_type": "stream",
     "text": [
      "/tmp/ipykernel_84/2907736548.py:15: FutureWarning: `rcond` parameter will change to the default of machine precision times ``max(M, N)`` where M and N are the input matrix dimensions.\n",
      "To use the future default and silence this warning we advise to pass `rcond=None`, to keep using the old, explicitly pass `rcond=-1`.\n",
      "  theta, residuals, rank, s = numpy.linalg.lstsq(X, Y)\n"
     ]
    },
    {
     "name": "stdout",
     "output_type": "stream",
     "text": [
      "[1.523174740453871]\n",
      "[1.523174740453871, 1.5046686106250748]\n",
      "[1.523174740453871, 1.5046686106250748, 1.4966845515181375]\n",
      "[1.523174740453871, 1.5046686106250748, 1.4966845515181375, 1.490447730223032]\n",
      "[1.523174740453871, 1.5046686106250748, 1.4966845515181375, 1.490447730223032, 1.4896106953963144]\n"
     ]
    }
   ],
   "source": [
    "def feature(datum, deg):\n",
    "    # feature for a specific polynomial degree\n",
    "    review = datum['review_text']\n",
    "    feat = review.count('!')\n",
    "    res = [feat ** i for i in range(deg + 1)]\n",
    "    \n",
    "    return res\n",
    "\n",
    "def polyfit(dataset, deg):\n",
    "    mses = []\n",
    "    \n",
    "    for i in range(1, deg + 1):\n",
    "        X = [feature(d, i) for d in dataset]\n",
    "        Y = [d['rating'] for d in dataset]\n",
    "        theta, residuals, rank, s = numpy.linalg.lstsq(X, Y)\n",
    "        mses = mses + [residuals[0] / len(dataset)]\n",
    "        print(mses)\n",
    "        \n",
    "    return mses\n",
    "\n",
    "mses = polyfit(dataset, 5)"
   ]
  },
  {
   "cell_type": "code",
   "execution_count": 47,
   "id": "559faac4",
   "metadata": {},
   "outputs": [],
   "source": [
    "answers['Q3'] = mses"
   ]
  },
  {
   "cell_type": "code",
   "execution_count": 48,
   "id": "bbb5da71",
   "metadata": {},
   "outputs": [],
   "source": [
    "assertFloatList(answers['Q3'], 5)# List of length 5"
   ]
  },
  {
   "cell_type": "code",
   "execution_count": 49,
   "id": "dcbb8263",
   "metadata": {},
   "outputs": [],
   "source": [
    "### Question 4"
   ]
  },
  {
   "cell_type": "code",
   "execution_count": 50,
   "id": "e91bc048",
   "metadata": {},
   "outputs": [
    {
     "name": "stderr",
     "output_type": "stream",
     "text": [
      "/tmp/ipykernel_84/3454103673.py:15: FutureWarning: `rcond` parameter will change to the default of machine precision times ``max(M, N)`` where M and N are the input matrix dimensions.\n",
      "To use the future default and silence this warning we advise to pass `rcond=None`, to keep using the old, explicitly pass `rcond=-1`.\n",
      "  theta, residuals, rank, s = numpy.linalg.lstsq(X, Y)\n"
     ]
    },
    {
     "name": "stdout",
     "output_type": "stream",
     "text": [
      "[1.5248743859866292, 1.4977199259322453, 1.4856632190311185, 1.4767337440077424, 1.4809577272589876]\n"
     ]
    }
   ],
   "source": [
    "def feature(datum, deg):\n",
    "    # feature for a specific polynomial degree\n",
    "    review = datum['review_text']\n",
    "    feat = review.count('!')\n",
    "    res = [feat ** i for i in range(deg + 1)]\n",
    "    \n",
    "    return res\n",
    "\n",
    "def polyfit(dataset, deg):    \n",
    "    res = list()\n",
    "    \n",
    "    for i in range(1, deg + 1):\n",
    "        X = [feature(d, i) for d in dataset]\n",
    "        Y = [d['rating'] for d in dataset]\n",
    "        theta, residuals, rank, s = numpy.linalg.lstsq(X, Y)\n",
    "        #print(theta)\n",
    "        res.append({'theta': theta, 'residuals': residuals, 'rank': rank, 's': s})\n",
    "        \n",
    "    return res\n",
    "\n",
    "def predict(dataset, theta):    \n",
    "    deg = len(theta) - 1\n",
    "    theta = numpy.array(theta).T\n",
    "    res = [ numpy.dot(feature(d, deg), theta)for d in dataset]\n",
    "    #print(res[:10])\n",
    "    return res\n",
    "\n",
    "def getMSE(pred, real):\n",
    "    pred = numpy.array(pred)\n",
    "    real = numpy.array(real)\n",
    "    diff = numpy.subtract(pred, real)\n",
    "    sqdiff = numpy.square(diff)\n",
    "    mse = sqdiff.mean()\n",
    "    \n",
    "    return mse\n",
    "\n",
    "totalsize = len(dataset)\n",
    "trainset = dataset[0: int(totalsize/2)]\n",
    "testset = dataset[int(totalsize/2):]\n",
    "#print(len(trainset))\n",
    "#print(len(testset))\n",
    "\n",
    "trainres = polyfit(trainset, 5)\n",
    "#print(trainres)\n",
    "mses = list()\n",
    "realY = [d['rating'] for d in testset]\n",
    "\n",
    "for i in range(len(trainres)):\n",
    "    thetagrp = trainres[i]['theta']\n",
    "    #print(thetagrp1)\n",
    "    predY = predict(testset, thetagrp)\n",
    "    mse = getMSE(predY, realY)\n",
    "    #print(mse)\n",
    "    mses.append(mse)\n",
    "\n",
    "print(mses)"
   ]
  },
  {
   "cell_type": "code",
   "execution_count": 51,
   "id": "fdd505ff",
   "metadata": {},
   "outputs": [],
   "source": [
    "answers['Q4'] = mses"
   ]
  },
  {
   "cell_type": "code",
   "execution_count": 52,
   "id": "d2954061",
   "metadata": {},
   "outputs": [],
   "source": [
    "assertFloatList(answers['Q4'], 5)"
   ]
  },
  {
   "cell_type": "code",
   "execution_count": 53,
   "id": "2fa286a5",
   "metadata": {},
   "outputs": [],
   "source": [
    "### Question 5"
   ]
  },
  {
   "cell_type": "code",
   "execution_count": 54,
   "id": "81dcc36d",
   "metadata": {},
   "outputs": [
    {
     "name": "stdout",
     "output_type": "stream",
     "text": [
      "4.0\n",
      "0.907\n"
     ]
    }
   ],
   "source": [
    "trainY = [d['rating'] for d in trainset]\n",
    "theta0 = numpy.median(numpy.array(trainY))\n",
    "print(theta0)\n",
    "\n",
    "testY = [d['rating'] for d in testset]\n",
    "diff = numpy.absolute(numpy.subtract(numpy.array(testY), theta0))\n",
    "mae = diff.mean()\n",
    "print(mae)"
   ]
  },
  {
   "cell_type": "code",
   "execution_count": 55,
   "id": "b3a2e9b9",
   "metadata": {},
   "outputs": [],
   "source": [
    "answers['Q5'] = mae"
   ]
  },
  {
   "cell_type": "code",
   "execution_count": 56,
   "id": "d71a47ed",
   "metadata": {},
   "outputs": [],
   "source": [
    "assertFloat(answers['Q5'])"
   ]
  },
  {
   "cell_type": "code",
   "execution_count": 57,
   "id": "cf84f30c",
   "metadata": {},
   "outputs": [],
   "source": [
    "### Question 6"
   ]
  },
  {
   "cell_type": "code",
   "execution_count": 58,
   "id": "19b5b795",
   "metadata": {},
   "outputs": [],
   "source": [
    "f = open(\"beer_50000.json\")\n",
    "dataset = []\n",
    "for l in f:\n",
    "    if 'user/gender' in l:\n",
    "        dataset.append(eval(l))"
   ]
  },
  {
   "cell_type": "code",
   "execution_count": 59,
   "id": "299d4fee",
   "metadata": {},
   "outputs": [
    {
     "name": "stdout",
     "output_type": "stream",
     "text": [
      "{'review/appearance': 4.0, 'beer/style': 'American Double / Imperial IPA', 'review/palate': 4.0, 'review/taste': 4.5, 'beer/name': 'Cauldron DIPA', 'review/timeUnix': 1293735206, 'user/gender': 'Male', 'user/birthdayRaw': 'Jun 16, 1901', 'beer/ABV': 7.7, 'beer/beerId': '64883', 'user/birthdayUnix': -2163081600, 'beer/brewerId': '1075', 'review/timeStruct': {'isdst': 0, 'mday': 30, 'hour': 18, 'min': 53, 'sec': 26, 'mon': 12, 'year': 2010, 'yday': 364, 'wday': 3}, 'user/ageInSeconds': 3581417047, 'review/overall': 4.0, 'review/text': \"According to the website, the style for the Caldera Cauldron changes every year. The current release is a DIPA, which frankly is the only cauldron I'm familiar with (it was an IPA/DIPA the last time I ordered a cauldron at the horsebrass several years back). In any event... at the Horse Brass yesterday.\\t\\tThe beer pours an orange copper color with good head retention and lacing. The nose is all hoppy IPA goodness, showcasing a huge aroma of dry citrus, pine and sandlewood. The flavor profile replicates the nose pretty closely in this West Coast all the way DIPA. This DIPA is not for the faint of heart and is a bit much even for a hophead like myslf. The finish is quite dry and hoppy, and there's barely enough sweet malt to balance and hold up the avalanche of hoppy bitterness in this beer. Mouthfeel is actually fairly light, with a long, persistentely bitter finish. Drinkability is good, with the alcohol barely noticeable in this well crafted beer. Still, this beer is so hugely hoppy/bitter, it's really hard for me to imagine ordering more than a single glass. Regardless, this is a very impressive beer from the folks at Caldera.\", 'user/profileName': 'johnmichaelsen', 'review/aroma': 4.5}\n"
     ]
    }
   ],
   "source": [
    "len(dataset)\n",
    "print(dataset[0])"
   ]
  },
  {
   "cell_type": "code",
   "execution_count": 60,
   "id": "cf95bec0",
   "metadata": {},
   "outputs": [],
   "source": [
    "def feature(datum):\n",
    "    # your implementation\n",
    "    review = datum['review/text']\n",
    "    feat = review.count('!')\n",
    "    \n",
    "    return [1] + [feat]\n",
    "\n",
    "X = [feature(d) for d in dataset if d['user/gender'] == 'Male' or d['user/gender'] == 'Female']\n",
    "y = [d['user/gender'] for d in dataset if d['user/gender'] == 'Male' or d['user/gender'] == 'Female' ]\n",
    "y = [0 if d == 'Male' else 1 for d in y]"
   ]
  },
  {
   "cell_type": "code",
   "execution_count": 61,
   "id": "e0ce9c0b",
   "metadata": {},
   "outputs": [
    {
     "name": "stdout",
     "output_type": "stream",
     "text": [
      "20403\n",
      "20403\n",
      "20403\n"
     ]
    }
   ],
   "source": [
    "print(len(dataset))\n",
    "print(len(X))\n",
    "print(len(y))\n",
    "\n",
    "mod = linear_model.LogisticRegression(C=1.0)\n",
    "mod.fit(X, y)\n",
    "\n",
    "pred = mod.predict(X)\n"
   ]
  },
  {
   "cell_type": "code",
   "execution_count": 62,
   "id": "a1065eb5",
   "metadata": {},
   "outputs": [
    {
     "name": "stdout",
     "output_type": "stream",
     "text": [
      "0\n",
      "20095\n",
      "0\n",
      "308\n",
      "0.5\n"
     ]
    }
   ],
   "source": [
    "#print (pred[:2])\n",
    "#print (y[:2])\n",
    "TP_ = numpy.logical_and(pred, y)\n",
    "TN_ = numpy.logical_and(numpy.logical_not(pred), numpy.logical_not(y))\n",
    "FP_ = numpy.logical_and(pred, numpy.logical_not(y))\n",
    "FN_ = numpy.logical_and(numpy.logical_not(pred), y)\n",
    "\n",
    "TP = sum(TP_)\n",
    "TN = sum(TN_)\n",
    "FP = sum(FP_)\n",
    "FN = sum(FN_)\n",
    "\n",
    "print(TP)\n",
    "print(TN)\n",
    "print(FP)\n",
    "print(FN)\n",
    "\n",
    "BER = 1 - 0.5 * (TP / (TP + FN) + TN / (TN + FP))\n",
    "print(BER)"
   ]
  },
  {
   "cell_type": "code",
   "execution_count": 63,
   "id": "0c35d20a",
   "metadata": {},
   "outputs": [],
   "source": [
    "answers['Q6'] = [TP, TN, FP, FN, BER]"
   ]
  },
  {
   "cell_type": "code",
   "execution_count": 64,
   "id": "9b18991a",
   "metadata": {},
   "outputs": [],
   "source": [
    "assertFloatList(answers['Q6'], 5)"
   ]
  },
  {
   "cell_type": "code",
   "execution_count": 65,
   "id": "f066f3d5",
   "metadata": {},
   "outputs": [],
   "source": [
    "### Question 7"
   ]
  },
  {
   "cell_type": "code",
   "execution_count": 66,
   "id": "d24c241f",
   "metadata": {},
   "outputs": [],
   "source": [
    "\n",
    "mod = linear_model.LogisticRegression(C=1.0, class_weight='balanced')\n",
    "mod.fit(X, y)\n",
    "\n",
    "pred = mod.predict(X)"
   ]
  },
  {
   "cell_type": "code",
   "execution_count": 67,
   "id": "81bf61de",
   "metadata": {},
   "outputs": [
    {
     "name": "stdout",
     "output_type": "stream",
     "text": [
      "88\n",
      "16332\n",
      "3763\n",
      "220\n",
      "0.4507731134255145\n"
     ]
    }
   ],
   "source": [
    "TP_ = numpy.logical_and(pred, y)\n",
    "TN_ = numpy.logical_and(numpy.logical_not(pred), numpy.logical_not(y))\n",
    "FP_ = numpy.logical_and(pred, numpy.logical_not(y))\n",
    "FN_ = numpy.logical_and(numpy.logical_not(pred), y)\n",
    "\n",
    "TP = sum(TP_)\n",
    "TN = sum(TN_)\n",
    "FP = sum(FP_)\n",
    "FN = sum(FN_)\n",
    "\n",
    "print(TP)\n",
    "print(TN)\n",
    "print(FP)\n",
    "print(FN)\n",
    "\n",
    "BER = 1 - 0.5 * (TP / (TP + FN) + TN / (TN + FP))\n",
    "print(BER)"
   ]
  },
  {
   "cell_type": "code",
   "execution_count": 68,
   "id": "0622704c",
   "metadata": {},
   "outputs": [],
   "source": [
    "answers[\"Q7\"] = [TP, TN, FP, FN, BER]"
   ]
  },
  {
   "cell_type": "code",
   "execution_count": 69,
   "id": "efb03c92",
   "metadata": {},
   "outputs": [],
   "source": [
    "assertFloatList(answers['Q7'], 5)"
   ]
  },
  {
   "cell_type": "code",
   "execution_count": 70,
   "id": "0e622c2b",
   "metadata": {},
   "outputs": [],
   "source": [
    "### Question 8"
   ]
  },
  {
   "cell_type": "code",
   "execution_count": 71,
   "id": "9b6bcea5",
   "metadata": {},
   "outputs": [
    {
     "name": "stdout",
     "output_type": "stream",
     "text": [
      "[0.0, 0.0, 0.03, 0.033, 0.0308]\n"
     ]
    }
   ],
   "source": [
    "scores = mod.decision_function(X)\n",
    "scoreslabels = list(zip(scores, y))\n",
    "scoreslabels.sort(reverse=True)\n",
    "sortedlabels = [x[1] for x in scoreslabels]\n",
    "\n",
    "precisionList = list()\n",
    "precisionList.append(sum(sortedlabels[:1]) / 1)\n",
    "precisionList.append(sum(sortedlabels[:10]) / 10)\n",
    "precisionList.append(sum(sortedlabels[:100]) / 100)\n",
    "precisionList.append(sum(sortedlabels[:1000]) / 1000)\n",
    "precisionList.append(sum(sortedlabels[:10000]) / 10000)\n",
    "\n",
    "print(precisionList)"
   ]
  },
  {
   "cell_type": "code",
   "execution_count": 72,
   "id": "764513e1",
   "metadata": {},
   "outputs": [],
   "source": [
    "answers['Q8'] = precisionList"
   ]
  },
  {
   "cell_type": "code",
   "execution_count": 73,
   "id": "b0d7d87a",
   "metadata": {},
   "outputs": [],
   "source": [
    "assertFloatList(answers['Q8'], 5) #List of five floats"
   ]
  },
  {
   "cell_type": "code",
   "execution_count": 74,
   "id": "d557ab88",
   "metadata": {},
   "outputs": [],
   "source": [
    "f = open(\"answers_hw1.txt\", 'w') # Write your answers to a file\n",
    "f.write(str(answers) + '\\n')\n",
    "f.close()"
   ]
  },
  {
   "cell_type": "code",
   "execution_count": null,
   "id": "63b457fc",
   "metadata": {},
   "outputs": [],
   "source": []
  }
 ],
 "metadata": {
  "kernelspec": {
   "display_name": "Python 3 (ipykernel)",
   "language": "python",
   "name": "python3"
  },
  "language_info": {
   "codemirror_mode": {
    "name": "ipython",
    "version": 3
   },
   "file_extension": ".py",
   "mimetype": "text/x-python",
   "name": "python",
   "nbconvert_exporter": "python",
   "pygments_lexer": "ipython3",
   "version": "3.9.5"
  }
 },
 "nbformat": 4,
 "nbformat_minor": 5
}
