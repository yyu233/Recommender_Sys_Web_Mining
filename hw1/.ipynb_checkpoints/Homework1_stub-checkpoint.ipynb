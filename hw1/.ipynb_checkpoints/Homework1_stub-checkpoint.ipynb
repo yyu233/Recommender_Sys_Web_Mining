{
 "cells": [
  {
   "cell_type": "code",
   "execution_count": 3,
   "id": "d545425e",
   "metadata": {},
   "outputs": [],
   "source": [
    "import json\n",
    "from matplotlib import pyplot as plt\n",
    "from collections import defaultdict\n",
    "from sklearn import linear_model\n",
    "import numpy\n",
    "import random\n",
    "import gzip\n",
    "import math"
   ]
  },
  {
   "cell_type": "code",
   "execution_count": 4,
   "id": "e74ac91e",
   "metadata": {},
   "outputs": [],
   "source": [
    "def assertFloat(x): # Checks that an answer is a float\n",
    "    assert type(float(x)) == float\n",
    "\n",
    "def assertFloatList(items, N):\n",
    "    assert len(items) == N\n",
    "    assert [type(float(x)) for x in items] == [float]*N"
   ]
  },
  {
   "cell_type": "code",
   "execution_count": 5,
   "id": "1a7911bf",
   "metadata": {},
   "outputs": [],
   "source": [
    "f = gzip.open(\"young_adult_10000.json.gz\")\n",
    "dataset = []\n",
    "for l in f:\n",
    "    dataset.append(json.loads(l))"
   ]
  },
  {
   "cell_type": "code",
   "execution_count": 6,
   "id": "85100ed3",
   "metadata": {},
   "outputs": [
    {
     "data": {
      "text/plain": [
       "10000"
      ]
     },
     "execution_count": 6,
     "metadata": {},
     "output_type": "execute_result"
    }
   ],
   "source": [
    "len(dataset)"
   ]
  },
  {
   "cell_type": "code",
   "execution_count": 7,
   "id": "e716aa89",
   "metadata": {},
   "outputs": [],
   "source": [
    "answers = {} # Put your answers to each question in this dictionary"
   ]
  },
  {
   "cell_type": "code",
   "execution_count": 23,
   "id": "cb2c286a",
   "metadata": {},
   "outputs": [
    {
     "data": {
      "text/plain": [
       "{'user_id': '7504b2aee1ecb5b2872d3da381c6c91e',\n",
       " 'book_id': '23302416',\n",
       " 'review_id': '84c0936a0f9868f38e75d2f9a5cb761e',\n",
       " 'rating': 5,\n",
       " 'review_text': \"I read this book because my fifth grade son was required to for school. I'm so glad I did! I experienced a range of emotions & just loved it. Glad these middle schoolers are being exposed to the topics discussed in the book.\",\n",
       " 'date_added': 'Wed Jan 21 18:40:59 -0800 2015',\n",
       " 'date_updated': 'Wed Oct 26 03:44:13 -0700 2016',\n",
       " 'read_at': '',\n",
       " 'started_at': '',\n",
       " 'n_votes': 0,\n",
       " 'n_comments': 0}"
      ]
     },
     "execution_count": 23,
     "metadata": {},
     "output_type": "execute_result"
    }
   ],
   "source": [
    "dataset[1]"
   ]
  },
  {
   "cell_type": "code",
   "execution_count": 7,
   "id": "2a260695",
   "metadata": {},
   "outputs": [],
   "source": [
    "### Question 1"
   ]
  },
  {
   "cell_type": "code",
   "execution_count": 43,
   "id": "fea5f8f2",
   "metadata": {},
   "outputs": [],
   "source": [
    "def feature(datum):\n",
    "    # your implementation\n",
    "    review = datum['review_text']\n",
    "    feat = review.count('!')\n",
    "    \n",
    "    return [1] + [feat]\n",
    "        "
   ]
  },
  {
   "cell_type": "code",
   "execution_count": 45,
   "id": "8f00dea9",
   "metadata": {},
   "outputs": [
    {
     "name": "stdout",
     "output_type": "stream",
     "text": [
      "(1,)\n",
      "3.6885330408320085\n",
      "0.0710901901995423\n",
      "1.523174740453871\n"
     ]
    },
    {
     "name": "stderr",
     "output_type": "stream",
     "text": [
      "/tmp/ipykernel_124/1218459083.py:3: FutureWarning: `rcond` parameter will change to the default of machine precision times ``max(M, N)`` where M and N are the input matrix dimensions.\n",
      "To use the future default and silence this warning we advise to pass `rcond=None`, to keep using the old, explicitly pass `rcond=-1`.\n",
      "  theta, residuals, rank, s = numpy.linalg.lstsq(X, Y)\n"
     ]
    }
   ],
   "source": [
    "X = [feature(d) for d in dataset]\n",
    "Y = [d['rating'] for d in dataset]\n",
    "theta, residuals, rank, s = numpy.linalg.lstsq(X, Y)\n",
    "#len(theta)\n",
    "theta0 = theta[0]\n",
    "theta1 = theta[1]\n",
    "#print(residuals.shape)\n",
    "mse = residuals[0] / len(dataset)\n",
    "\n",
    "print(theta0)\n",
    "print(theta1)\n",
    "print(mse)"
   ]
  },
  {
   "cell_type": "code",
   "execution_count": 9,
   "id": "51581a4f",
   "metadata": {},
   "outputs": [
    {
     "ename": "NameError",
     "evalue": "name 'theta0' is not defined",
     "output_type": "error",
     "traceback": [
      "\u001b[0;31m---------------------------------------------------------------------------\u001b[0m",
      "\u001b[0;31mNameError\u001b[0m                                 Traceback (most recent call last)",
      "\u001b[0;32m/tmp/ipykernel_98/237903229.py\u001b[0m in \u001b[0;36m<module>\u001b[0;34m\u001b[0m\n\u001b[0;32m----> 1\u001b[0;31m \u001b[0manswers\u001b[0m\u001b[0;34m[\u001b[0m\u001b[0;34m'Q1'\u001b[0m\u001b[0;34m]\u001b[0m \u001b[0;34m=\u001b[0m \u001b[0;34m[\u001b[0m\u001b[0mtheta0\u001b[0m\u001b[0;34m,\u001b[0m \u001b[0mtheta1\u001b[0m\u001b[0;34m,\u001b[0m \u001b[0mmse\u001b[0m\u001b[0;34m]\u001b[0m\u001b[0;34m\u001b[0m\u001b[0;34m\u001b[0m\u001b[0m\n\u001b[0m",
      "\u001b[0;31mNameError\u001b[0m: name 'theta0' is not defined"
     ]
    }
   ],
   "source": [
    "answers['Q1'] = [theta0, theta1, mse]"
   ]
  },
  {
   "cell_type": "code",
   "execution_count": 29,
   "id": "525fd954",
   "metadata": {},
   "outputs": [],
   "source": [
    "assertFloatList(answers['Q1'], 3) # Check the format of your answer (three floats)"
   ]
  },
  {
   "cell_type": "code",
   "execution_count": null,
   "id": "8b84731b",
   "metadata": {},
   "outputs": [],
   "source": [
    "### Question 2"
   ]
  },
  {
   "cell_type": "code",
   "execution_count": 31,
   "id": "982ea2f5",
   "metadata": {},
   "outputs": [],
   "source": [
    "def feature(datum):\n",
    "    review = datum['review_text']\n",
    "    feat1 = len(review)\n",
    "    feat2 = review.count('!')\n",
    "    \n",
    "    return [1] + [feat1] + [feat2]"
   ]
  },
  {
   "cell_type": "code",
   "execution_count": 34,
   "id": "cda70702",
   "metadata": {},
   "outputs": [
    {
     "name": "stdout",
     "output_type": "stream",
     "text": [
      "3.7175128077971786\n",
      "-4.121506529487919e-05\n",
      "0.07527591733232654\n",
      "1.5214029246165892\n"
     ]
    },
    {
     "name": "stderr",
     "output_type": "stream",
     "text": [
      "/tmp/ipykernel_124/1504653064.py:3: FutureWarning: `rcond` parameter will change to the default of machine precision times ``max(M, N)`` where M and N are the input matrix dimensions.\n",
      "To use the future default and silence this warning we advise to pass `rcond=None`, to keep using the old, explicitly pass `rcond=-1`.\n",
      "  theta, residuals, rank, s = numpy.linalg.lstsq(X, Y)\n"
     ]
    }
   ],
   "source": [
    "X = [feature(d) for d in dataset]\n",
    "Y = [d['rating'] for d in dataset]\n",
    "theta, residuals, rank, s = numpy.linalg.lstsq(X, Y)\n",
    "#len(theta)\n",
    "theta0 = theta[0]\n",
    "theta1 = theta[1]\n",
    "theta2 = theta[2]\n",
    "mse = residuals[0] / len(dataset)\n",
    "\n",
    "print(theta0)\n",
    "print(theta1)\n",
    "print(theta2)\n",
    "print(mse)"
   ]
  },
  {
   "cell_type": "code",
   "execution_count": 35,
   "id": "f099afd8",
   "metadata": {},
   "outputs": [],
   "source": [
    "answers['Q2'] = [theta0, theta1, theta2, mse]"
   ]
  },
  {
   "cell_type": "code",
   "execution_count": 36,
   "id": "31e2f9e8",
   "metadata": {},
   "outputs": [],
   "source": [
    "assertFloatList(answers['Q2'], 4)"
   ]
  },
  {
   "cell_type": "code",
   "execution_count": 37,
   "id": "1147c4f6",
   "metadata": {},
   "outputs": [],
   "source": [
    "### Question 3"
   ]
  },
  {
   "cell_type": "code",
   "execution_count": 52,
   "id": "78ef0f1e",
   "metadata": {},
   "outputs": [
    {
     "name": "stderr",
     "output_type": "stream",
     "text": [
      "/tmp/ipykernel_124/226704505.py:14: FutureWarning: `rcond` parameter will change to the default of machine precision times ``max(M, N)`` where M and N are the input matrix dimensions.\n",
      "To use the future default and silence this warning we advise to pass `rcond=None`, to keep using the old, explicitly pass `rcond=-1`.\n",
      "  theta, residuals, rank, s = numpy.linalg.lstsq(X, Y)\n"
     ]
    },
    {
     "name": "stdout",
     "output_type": "stream",
     "text": [
      "[1.523174740453871]\n",
      "[1.523174740453871, 1.5046686106250748]\n",
      "[1.523174740453871, 1.5046686106250748, 1.4966845515181375]\n",
      "[1.523174740453871, 1.5046686106250748, 1.4966845515181375, 1.490447730223032]\n",
      "[1.523174740453871, 1.5046686106250748, 1.4966845515181375, 1.490447730223032, 1.4896106953963144]\n"
     ]
    }
   ],
   "source": [
    "def feature(datum, deg):\n",
    "    # feature for a specific polynomial degree\n",
    "    review = datum['review_text']\n",
    "    feat = review.count('!')\n",
    "    res = [feat ** i for i in range(deg + 1)]\n",
    "    \n",
    "    return res\n",
    "\n",
    "def polyfit(dataset, deg):\n",
    "    mses = []\n",
    "    \n",
    "    for i in range(1, deg + 1):\n",
    "        X = [feature(d, i) for d in dataset]\n",
    "        Y = [d['rating'] for d in dataset]\n",
    "        theta, residuals, rank, s = numpy.linalg.lstsq(X, Y)\n",
    "        mses = mses + [residuals[0] / len(dataset)]\n",
    "        print(mses)\n",
    "        \n",
    "    return mses\n",
    "\n",
    "mses = polyfit(dataset, 5)"
   ]
  },
  {
   "cell_type": "code",
   "execution_count": 53,
   "id": "559faac4",
   "metadata": {},
   "outputs": [],
   "source": [
    "answers['Q3'] = mses"
   ]
  },
  {
   "cell_type": "code",
   "execution_count": 54,
   "id": "bbb5da71",
   "metadata": {},
   "outputs": [],
   "source": [
    "assertFloatList(answers['Q3'], 5)# List of length 5"
   ]
  },
  {
   "cell_type": "code",
   "execution_count": 55,
   "id": "dcbb8263",
   "metadata": {},
   "outputs": [],
   "source": [
    "### Question 4"
   ]
  },
  {
   "cell_type": "code",
   "execution_count": 22,
   "id": "e91bc048",
   "metadata": {},
   "outputs": [
    {
     "name": "stdout",
     "output_type": "stream",
     "text": [
      "[3.68085189 0.09923667]\n",
      "[ 3.65142702e+00  1.58181509e-01 -3.60836331e-03]\n",
      "[ 3.63387165e+00  2.12399695e-01 -1.09058495e-02  1.36778428e-04]\n",
      "[ 3.62549502e+00  2.56448988e-01 -2.24927314e-02  7.95748622e-04\n",
      " -8.83420468e-06]\n",
      "[ 3.62410495e+00  2.69205893e-01 -2.80561455e-02  1.42314180e-03\n",
      " -3.26372862e-05  2.65606566e-07]\n",
      "[3.6808518892598383, 3.6808518892598383, 3.8793252194498415, 3.6808518892598383, 3.6808518892598383, 3.78008855435484, 3.6808518892598383, 3.78008855435484, 3.6808518892598383, 4.474745210019851]\n",
      "[3.651427016831693, 3.651427016831693, 3.9533565823397345, 3.651427016831693, 3.651427016831693, 3.8060001628940703, 3.651427016831693, 3.8060001628940703, 3.651427016831693, 4.68594384006273]\n",
      "[3.6338716482775624, 3.6338716482775624, 4.016141868449332, 3.6338716482775624, 3.6338716482775624, 3.835502272562519, 3.6338716482775624, 3.835502272562519, 3.6338716482775624, 4.70512539938063]\n",
      "[3.625495024747766, 3.625495024747766, 4.054646716381727, 3.625495024747766, 3.625495024747766, 3.8602381955368466, 3.625495024747766, 3.8602381955368466, 3.625495024747766, 4.608790509098044]\n",
      "[3.6241049509014385, 3.6241049509014385, 4.061163591179961, 3.6241049509014385, 3.6241049509014385, 3.866645468079767, 3.6241049509014385, 3.866645468079767, 3.6241049509014385, 4.585828451395257]\n",
      "[1.5248743859866292, 1.4977199259322453, 1.4856632190311185, 1.4767337440077424, 1.4809577272611674]\n"
     ]
    },
    {
     "name": "stderr",
     "output_type": "stream",
     "text": [
      "/tmp/ipykernel_98/4043349748.py:15: FutureWarning: `rcond` parameter will change to the default of machine precision times ``max(M, N)`` where M and N are the input matrix dimensions.\n",
      "To use the future default and silence this warning we advise to pass `rcond=None`, to keep using the old, explicitly pass `rcond=-1`.\n",
      "  theta, residuals, rank, s = numpy.linalg.lstsq(X, Y)\n"
     ]
    }
   ],
   "source": [
    "def feature(datum, deg):\n",
    "    # feature for a specific polynomial degree\n",
    "    review = datum['review_text']\n",
    "    feat = review.count('!')\n",
    "    res = [feat ** i for i in range(deg + 1)]\n",
    "    \n",
    "    return res\n",
    "\n",
    "def polyfit(dataset, deg):    \n",
    "    res = list()\n",
    "    \n",
    "    for i in range(1, deg + 1):\n",
    "        X = [feature(d, i) for d in dataset]\n",
    "        Y = [d['rating'] for d in dataset]\n",
    "        theta, residuals, rank, s = numpy.linalg.lstsq(X, Y)\n",
    "        print(theta)\n",
    "        res.append({'theta': theta, 'residuals': residuals, 'rank': rank, 's': s})\n",
    "        \n",
    "    return res\n",
    "\n",
    "def predict(dataset, theta):    \n",
    "    deg = len(theta) - 1\n",
    "    theta = numpy.array(theta).T\n",
    "    res = [ numpy.dot(feature(d, deg), theta)for d in dataset]\n",
    "    print(res[:10])\n",
    "    return res\n",
    "\n",
    "def getMSE(pred, real):\n",
    "    pred = numpy.array(pred)\n",
    "    real = numpy.array(real)\n",
    "    diff = numpy.subtract(pred, real)\n",
    "    sqdiff = numpy.square(diff)\n",
    "    mse = sqdiff.mean()\n",
    "    \n",
    "    return mse\n",
    "\n",
    "totalsize = len(dataset)\n",
    "trainset = dataset[0: int(totalsize/2)]\n",
    "testset = dataset[int(totalsize/2):]\n",
    "#print(len(trainset))\n",
    "#print(len(testset))\n",
    "\n",
    "trainres = polyfit(trainset, 5)\n",
    "#print(trainres)\n",
    "mses = list()\n",
    "realY = [d['rating'] for d in testset]\n",
    "\n",
    "for i in range(len(trainres)):\n",
    "    thetagrp = trainres[i]['theta']\n",
    "    #print(thetagrp1)\n",
    "    predY = predict(testset, thetagrp)\n",
    "    mse = getMSE(predY, realY)\n",
    "    #print(mse)\n",
    "    mses.append(mse)\n",
    "\n",
    "print(mses)"
   ]
  },
  {
   "cell_type": "code",
   "execution_count": 93,
   "id": "fdd505ff",
   "metadata": {},
   "outputs": [],
   "source": [
    "answers['Q4'] = mses"
   ]
  },
  {
   "cell_type": "code",
   "execution_count": 94,
   "id": "d2954061",
   "metadata": {},
   "outputs": [],
   "source": [
    "assertFloatList(answers['Q4'], 5)"
   ]
  },
  {
   "cell_type": "code",
   "execution_count": null,
   "id": "2fa286a5",
   "metadata": {},
   "outputs": [],
   "source": [
    "### Question 5"
   ]
  },
  {
   "cell_type": "code",
   "execution_count": 106,
   "id": "81dcc36d",
   "metadata": {},
   "outputs": [
    {
     "name": "stdout",
     "output_type": "stream",
     "text": [
      "4.0\n",
      "0.907\n"
     ]
    }
   ],
   "source": [
    "trainY = [d['rating'] for d in trainset]\n",
    "theta0 = numpy.median(numpy.array(trainY))\n",
    "print(theta0)\n",
    "\n",
    "testY = [d['rating'] for d in testset]\n",
    "diff = numpy.absolute(numpy.subtract(numpy.array(testY), theta0))\n",
    "mae = diff.mean()\n",
    "print(mae)"
   ]
  },
  {
   "cell_type": "code",
   "execution_count": 107,
   "id": "b3a2e9b9",
   "metadata": {},
   "outputs": [],
   "source": [
    "answers['Q5'] = mae"
   ]
  },
  {
   "cell_type": "code",
   "execution_count": 108,
   "id": "d71a47ed",
   "metadata": {},
   "outputs": [],
   "source": [
    "assertFloat(answers['Q5'])"
   ]
  },
  {
   "cell_type": "code",
   "execution_count": 109,
   "id": "cf84f30c",
   "metadata": {},
   "outputs": [],
   "source": [
    "### Question 6"
   ]
  },
  {
   "cell_type": "code",
   "execution_count": 110,
   "id": "19b5b795",
   "metadata": {},
   "outputs": [],
   "source": [
    "f = open(\"beer_50000.json\")\n",
    "dataset = []\n",
    "for l in f:\n",
    "    if 'user/gender' in l:\n",
    "        dataset.append(eval(l))"
   ]
  },
  {
   "cell_type": "code",
   "execution_count": 111,
   "id": "299d4fee",
   "metadata": {},
   "outputs": [
    {
     "data": {
      "text/plain": [
       "20403"
      ]
     },
     "execution_count": 111,
     "metadata": {},
     "output_type": "execute_result"
    }
   ],
   "source": [
    "len(dataset)"
   ]
  },
  {
   "cell_type": "code",
   "execution_count": null,
   "id": "cf95bec0",
   "metadata": {},
   "outputs": [],
   "source": [
    "X = \n",
    "y = "
   ]
  },
  {
   "cell_type": "code",
   "execution_count": null,
   "id": "e0ce9c0b",
   "metadata": {},
   "outputs": [],
   "source": []
  },
  {
   "cell_type": "code",
   "execution_count": null,
   "id": "0c35d20a",
   "metadata": {},
   "outputs": [],
   "source": [
    "answers['Q6'] = [TP, TN, FP, FN, BER]"
   ]
  },
  {
   "cell_type": "code",
   "execution_count": null,
   "id": "9b18991a",
   "metadata": {},
   "outputs": [],
   "source": [
    "assertFloatList(answers['Q6'], 5)"
   ]
  },
  {
   "cell_type": "code",
   "execution_count": null,
   "id": "f066f3d5",
   "metadata": {},
   "outputs": [],
   "source": [
    "### Question 7"
   ]
  },
  {
   "cell_type": "code",
   "execution_count": null,
   "id": "d24c241f",
   "metadata": {},
   "outputs": [],
   "source": []
  },
  {
   "cell_type": "code",
   "execution_count": null,
   "id": "0622704c",
   "metadata": {},
   "outputs": [],
   "source": [
    "answers[\"Q7\"] = [TP, TN, FP, FN, BER]"
   ]
  },
  {
   "cell_type": "code",
   "execution_count": null,
   "id": "efb03c92",
   "metadata": {},
   "outputs": [],
   "source": [
    "assertFloatList(answers['Q7'], 5)"
   ]
  },
  {
   "cell_type": "code",
   "execution_count": null,
   "id": "0e622c2b",
   "metadata": {},
   "outputs": [],
   "source": [
    "### Question 8"
   ]
  },
  {
   "cell_type": "code",
   "execution_count": null,
   "id": "9b6bcea5",
   "metadata": {},
   "outputs": [],
   "source": []
  },
  {
   "cell_type": "code",
   "execution_count": null,
   "id": "764513e1",
   "metadata": {},
   "outputs": [],
   "source": [
    "answers['Q8'] = precisionList"
   ]
  },
  {
   "cell_type": "code",
   "execution_count": null,
   "id": "b0d7d87a",
   "metadata": {},
   "outputs": [],
   "source": [
    "assertFloatList(answers['Q8'], 5) #List of five floats"
   ]
  },
  {
   "cell_type": "code",
   "execution_count": null,
   "id": "d557ab88",
   "metadata": {},
   "outputs": [],
   "source": [
    "f = open(\"answers_hw1.txt\", 'w') # Write your answers to a file\n",
    "f.write(str(answers) + '\\n')\n",
    "f.close()"
   ]
  },
  {
   "cell_type": "code",
   "execution_count": null,
   "id": "63b457fc",
   "metadata": {},
   "outputs": [],
   "source": []
  }
 ],
 "metadata": {
  "kernelspec": {
   "display_name": "Python 3 (ipykernel)",
   "language": "python",
   "name": "python3"
  },
  "language_info": {
   "codemirror_mode": {
    "name": "ipython",
    "version": 3
   },
   "file_extension": ".py",
   "mimetype": "text/x-python",
   "name": "python",
   "nbconvert_exporter": "python",
   "pygments_lexer": "ipython3",
   "version": "3.9.5"
  }
 },
 "nbformat": 4,
 "nbformat_minor": 5
}
